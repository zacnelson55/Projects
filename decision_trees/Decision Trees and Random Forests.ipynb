{
 "cells": [
  {
   "cell_type": "code",
   "execution_count": 60,
   "id": "eee41b15",
   "metadata": {},
   "outputs": [],
   "source": [
    "import numpy as np\n",
    "import scipy.io\n",
    "from scipy.io import loadmat\n",
    "import sklearn.model_selection\n",
    "import pandas as pd\n",
    "import matplotlib.pyplot as plt"
   ]
  },
  {
   "cell_type": "code",
   "execution_count": 45,
   "id": "8a560b86",
   "metadata": {},
   "outputs": [],
   "source": [
    "# import spam data\n",
    "spam_data = loadmat(\"hw5_code/dataset/spam/spam_data.mat\")\n",
    "spam_X = spam_data.get('training_data')\n",
    "spam_y = spam_data.get('training_labels').flatten()\n",
    "spam_X_test = spam_data.get('test_data')"
   ]
  },
  {
   "cell_type": "code",
   "execution_count": 46,
   "id": "23430740",
   "metadata": {},
   "outputs": [],
   "source": [
    "# spam train-val split\n",
    "np.random.seed(42)\n",
    "inds = np.random.permutation(len(spam_X))\n",
    "spam_X_val = spam_X[inds][:1000]\n",
    "spam_y_val = spam_y[inds][:1000]\n",
    "\n",
    "spam_X = spam_X[inds][1000:]\n",
    "spam_y = spam_y[inds][1000:]"
   ]
  },
  {
   "cell_type": "code",
   "execution_count": 47,
   "id": "a61bb23e",
   "metadata": {},
   "outputs": [],
   "source": [
    "# import titanic data\n",
    "df_titanic_X = pd.read_csv('hw5_code/dataset/titanic/titanic_training.csv')\n",
    "df_titanic_y = df_titanic_X['survived']\n",
    "df_titanic_test = pd.read_csv('hw5_code/dataset/titanic/titanic_test_data.csv')"
   ]
  },
  {
   "cell_type": "code",
   "execution_count": 48,
   "id": "7c0e50f5",
   "metadata": {},
   "outputs": [],
   "source": [
    "# titanic preprocessing\n",
    "df_titanic_X = df_titanic_X.drop(labels = ['survived', 'cabin', 'embarked', 'ticket'], axis=1)\n",
    "df_titanic_test = df_titanic_test.drop(labels = ['cabin', 'embarked', 'ticket'], axis=1)\n",
    "\n",
    "df_titanic_test[\"rels\"] = df_titanic_test[\"sibsp\"] + df_titanic_test[\"parch\"]\n",
    "df_titanic_test = df_titanic_test.drop(labels = ['sibsp', 'parch'], axis=1)\n",
    "\n",
    "df_titanic_X[\"rels\"] = df_titanic_X[\"sibsp\"] + df_titanic_X[\"parch\"]\n",
    "df_titanic_X = df_titanic_X.drop(labels = ['sibsp', 'parch'], axis=1)\n",
    "\n",
    "cat_feats = [\"sex\"]\n",
    "num_feats = [\"pclass\", \"age\", \"fare\", \"rels\"]\n",
    "\n",
    "def preprocessing(df):\n",
    "\n",
    "    for col in num_feats:\n",
    "        df[col] = df[col].fillna(np.mean(df[col]))\n",
    "\n",
    "    cat_feats_dumms = pd.get_dummies(df[cat_feats])\n",
    "    df = df.drop(labels=cat_feats, axis=1)\n",
    "\n",
    "    return pd.concat([df, cat_feats_dumms], axis=1)\n",
    "\n",
    "df_titanic_X = preprocessing(df_titanic_X)\n",
    "df_titanic_test = preprocessing(df_titanic_test)"
   ]
  },
  {
   "cell_type": "code",
   "execution_count": 11,
   "id": "165965ba",
   "metadata": {},
   "outputs": [],
   "source": [
    "# titanic train-val split\n",
    "titanic_X = df_titanic_X.to_numpy()\n",
    "titanic_y = df_titanic_y.to_numpy()\n",
    "titanic_test = df_titanic_test.to_numpy()\n",
    "\n",
    "np.random.seed(42)\n",
    "inds = np.random.permutation(len(titanic_X))\n",
    "titanic_X_val = titanic_X[inds][:300]\n",
    "titanic_y_val = titanic_y[inds][:300]\n",
    "\n",
    "titanic_X = titanic_X[inds][300:]\n",
    "titanic_y = titanic_y[inds][300:]"
   ]
  },
  {
   "cell_type": "markdown",
   "id": "e08d3b05",
   "metadata": {},
   "source": [
    "# Implement Descision Trees"
   ]
  },
  {
   "cell_type": "code",
   "execution_count": 13,
   "id": "f1a0f03a",
   "metadata": {},
   "outputs": [],
   "source": [
    "def information_gain(y0, y1, curr_H):\n",
    "    p0 = len(y0) / (len(y0) + len(y1))\n",
    "    p1 = 1 - p0\n",
    "    return curr_H - (p0*gini_impurity(y0) + p1*gini_impurity(y1))\n",
    "\n",
    "def gini_impurity(y):\n",
    "    labels = np.unique(y)\n",
    "    gini = 1\n",
    "    for label in labels:\n",
    "        p = np.sum([label == a for a in y]) / len(y)\n",
    "        gini -= p**2\n",
    "    return gini"
   ]
  },
  {
   "cell_type": "code",
   "execution_count": 114,
   "id": "d1b4c414",
   "metadata": {},
   "outputs": [],
   "source": [
    "class DecisionTree:\n",
    "    def __init__(self, max_depth=3, feats=None, sample_feats=False, visualize_tree=False, visualize_path=False):\n",
    "        self.max_depth = max_depth\n",
    "        self.sample_feats = sample_feats\n",
    "        self.left, self.right = None, None  # for non-leaf nodes\n",
    "        self.split_idx, self.thresh = None, None  # for non-leaf nodes\n",
    "        self.data, self.pred = None, None  # for leaf nodes\n",
    "        self.feats = feats\n",
    "        self.visualize_path = visualize_path\n",
    "        self.visualize_tree = visualize_tree\n",
    "\n",
    "    def split(self, X, y, idx, thresh):\n",
    "        X0, idx0, X1, idx1 = self.split_test(X, idx=idx, thresh=thresh)\n",
    "        y0, y1 = y[idx0], y[idx1]\n",
    "        return X0, y0, X1, y1\n",
    "\n",
    "    def split_test(self, X, idx, thresh):\n",
    "        idx0 = np.where(X[:, idx] < thresh)[0]\n",
    "        idx1 = np.where(X[:, idx] >= thresh)[0]\n",
    "        X0, X1 = X[idx0, :], X[idx1, :]\n",
    "        return X0, idx0, X1, idx1\n",
    "    \n",
    "    def best_split(self, X, y):\n",
    "        curr_H = gini_impurity(y)\n",
    "        max_gain = 0\n",
    "        best_feat = None\n",
    "        best_thresh = -1\n",
    "        features = range(X.shape[1])\n",
    "        if self.sample_feats:\n",
    "            m = int(X.shape[1]**(1/2))\n",
    "            features = np.random.choice(features, size=m, replace=False)\n",
    "        for feat in features:\n",
    "            for thresh in np.unique(X[:, feat]):\n",
    "                X0, y0, X1, y1 = self.split(X=X, y=y, idx=feat, thresh=thresh)\n",
    "                curr_gain = information_gain(y0, y1, curr_H)\n",
    "                if curr_gain > max_gain:\n",
    "                    max_gain = curr_gain\n",
    "                    best_feat = feat\n",
    "                    best_thresh = thresh\n",
    "        self.split_idx = best_feat\n",
    "        self.thresh = best_thresh\n",
    "        return self.split(X=X, y=y, idx=best_feat, thresh=best_thresh)\n",
    "\n",
    "    def fit(self, X, y):\n",
    "        if self.max_depth > 0:\n",
    "            X0, y0, X1, y1 = self.best_split(X, y)\n",
    "            if X0.size > 0 and X1.size > 0:\n",
    "                self.left = DecisionTree(\n",
    "                    max_depth=self.max_depth - 1, sample_feats=self.sample_feats, visualize_path=self.visualize_path, \n",
    "                    feats=self.feats)\n",
    "                self.left.fit(X0, y0)\n",
    "                self.right = DecisionTree(\n",
    "                    max_depth=self.max_depth - 1, sample_feats=self.sample_feats, visualize_path=self.visualize_path,\n",
    "                    feats=self.feats)\n",
    "                self.right.fit(X1, y1)\n",
    "            else:\n",
    "                self.max_depth = 0\n",
    "                self.data, self.labels = X, y\n",
    "                self.pred = stats.mode(y).mode[0]\n",
    "        else:\n",
    "            self.data, self.labels = X, y\n",
    "            self.pred = stats.mode(y).mode[0]\n",
    "        return self\n",
    "\n",
    "    def predict(self, X):\n",
    "        if self.max_depth == 0:\n",
    "            return self.pred * np.ones(X.shape[0])\n",
    "        else:\n",
    "            X0, idx0, X1, idx1 = self.split_test(X, idx=self.split_idx, thresh=self.thresh)\n",
    "            yhat = np.zeros(X.shape[0])\n",
    "            yhat[idx0] = self.left.predict(X0)\n",
    "            yhat[idx1] = self.right.predict(X1)\n",
    "            return yhat\n",
    "        \n",
    "    def __repr__(self):\n",
    "        if self.max_depth == 0:\n",
    "            return \"%s (%s)\" % (self.pred, self.labels.size)\n",
    "        else:\n",
    "            return \"[%s < %s: %s | %s]\" % (self.feats[self.split_idx],\n",
    "                                           self.thresh, self.left.__repr__(),\n",
    "                                           self.right.__repr__())"
   ]
  },
  {
   "cell_type": "markdown",
   "id": "907dcbb2",
   "metadata": {},
   "source": [
    "# Implement a Random Forest"
   ]
  },
  {
   "cell_type": "code",
   "execution_count": 15,
   "id": "e2e2659e",
   "metadata": {},
   "outputs": [],
   "source": [
    "class RandomForest:\n",
    "    def __init__(self, max_depth=10, n=15):\n",
    "        self.max_depth = max_depth\n",
    "        self.n = n\n",
    "        self.decision_trees = [DecisionTree(max_depth=self.max_depth, sample_feats=True) for i in range(self.n)]\n",
    "        \n",
    "    def fit(self, X, y):\n",
    "        for i in range(self.n):\n",
    "            inds = np.random.choice(range(X.shape[0]), size=X.shape[0], replace=True)\n",
    "            bag_X = X[inds]\n",
    "            bag_y = y[inds]\n",
    "            self.decision_trees[i].fit(bag_X, bag_y)\n",
    "        return self\n",
    "    \n",
    "    def predict(self, X):\n",
    "        preds = [tree.predict(X) for tree in self.decision_trees]\n",
    "        preds = np.array(preds)\n",
    "        final_pred = stats.mode(preds).mode\n",
    "        return final_pred.flatten()\n",
    "            "
   ]
  },
  {
   "cell_type": "markdown",
   "id": "fb7309af",
   "metadata": {},
   "source": [
    "# Examples and Performance Evaluation"
   ]
  },
  {
   "cell_type": "code",
   "execution_count": 45,
   "id": "ecc4a7e8",
   "metadata": {},
   "outputs": [],
   "source": [
    "# import spam data\n",
    "spam_data = loadmat(\"dataset/spam/spam_data.mat\")\n",
    "spam_X = spam_data.get('training_data')\n",
    "spam_y = spam_data.get('training_labels').flatten()\n",
    "spam_X_test = spam_data.get('test_data')"
   ]
  },
  {
   "cell_type": "code",
   "execution_count": 46,
   "id": "1786dbb3",
   "metadata": {},
   "outputs": [],
   "source": [
    "# spam train-val split\n",
    "np.random.seed(42)\n",
    "inds = np.random.permutation(len(spam_X))\n",
    "spam_X_val = spam_X[inds][:1000]\n",
    "spam_y_val = spam_y[inds][:1000]\n",
    "\n",
    "spam_X = spam_X[inds][1000:]\n",
    "spam_y = spam_y[inds][1000:]"
   ]
  },
  {
   "cell_type": "code",
   "execution_count": 47,
   "id": "1e55d14c",
   "metadata": {},
   "outputs": [],
   "source": [
    "# import titanic data\n",
    "df_titanic_X = pd.read_csv('dataset/titanic/titanic_training.csv')\n",
    "df_titanic_y = df_titanic_X['survived']\n",
    "df_titanic_test = pd.read_csv('hw5_code/dataset/titanic/titanic_test_data.csv')"
   ]
  },
  {
   "cell_type": "code",
   "execution_count": 48,
   "id": "666b56ff",
   "metadata": {},
   "outputs": [],
   "source": [
    "# titanic preprocessing\n",
    "df_titanic_X = df_titanic_X.drop(labels = ['survived', 'cabin', 'embarked', 'ticket'], axis=1)\n",
    "df_titanic_test = df_titanic_test.drop(labels = ['cabin', 'embarked', 'ticket'], axis=1)\n",
    "\n",
    "df_titanic_test[\"rels\"] = df_titanic_test[\"sibsp\"] + df_titanic_test[\"parch\"]\n",
    "df_titanic_test = df_titanic_test.drop(labels = ['sibsp', 'parch'], axis=1)\n",
    "\n",
    "df_titanic_X[\"rels\"] = df_titanic_X[\"sibsp\"] + df_titanic_X[\"parch\"]\n",
    "df_titanic_X = df_titanic_X.drop(labels = ['sibsp', 'parch'], axis=1)\n",
    "\n",
    "cat_feats = [\"sex\"]\n",
    "num_feats = [\"pclass\", \"age\", \"fare\", \"rels\"]\n",
    "\n",
    "def preprocessing(df):\n",
    "\n",
    "    for col in num_feats:\n",
    "        df[col] = df[col].fillna(np.mean(df[col]))\n",
    "\n",
    "    cat_feats_dumms = pd.get_dummies(df[cat_feats])\n",
    "    df = df.drop(labels=cat_feats, axis=1)\n",
    "\n",
    "    return pd.concat([df, cat_feats_dumms], axis=1)\n",
    "\n",
    "df_titanic_X = preprocessing(df_titanic_X)\n",
    "df_titanic_test = preprocessing(df_titanic_test)"
   ]
  },
  {
   "cell_type": "code",
   "execution_count": 11,
   "id": "0a5f0d2f",
   "metadata": {},
   "outputs": [],
   "source": [
    "# titanic train-val split\n",
    "titanic_X = df_titanic_X.to_numpy()\n",
    "titanic_y = df_titanic_y.to_numpy()\n",
    "titanic_test = df_titanic_test.to_numpy()\n",
    "\n",
    "np.random.seed(42)\n",
    "inds = np.random.permutation(len(titanic_X))\n",
    "titanic_X_val = titanic_X[inds][:300]\n",
    "titanic_y_val = titanic_y[inds][:300]\n",
    "\n",
    "titanic_X = titanic_X[inds][300:]\n",
    "titanic_y = titanic_y[inds][300:]"
   ]
  },
  {
   "cell_type": "code",
   "execution_count": 17,
   "id": "a8d8e767",
   "metadata": {},
   "outputs": [
    {
     "name": "stderr",
     "output_type": "stream",
     "text": [
      "/var/folders/c7/jkk8dncs2y35yqy53f3511nh0000gn/T/ipykernel_2623/3963986499.py:57: FutureWarning: Unlike other reduction functions (e.g. `skew`, `kurtosis`), the default behavior of `mode` typically preserves the axis it acts along. In SciPy 1.11.0, this behavior will change: the default value of `keepdims` will become False, the `axis` over which the statistic is taken will be eliminated, and the value None will no longer be accepted. Set `keepdims` to True or False to avoid this warning.\n",
      "  self.pred = stats.mode(y).mode[0]\n",
      "/var/folders/c7/jkk8dncs2y35yqy53f3511nh0000gn/T/ipykernel_2623/3963986499.py:54: FutureWarning: Unlike other reduction functions (e.g. `skew`, `kurtosis`), the default behavior of `mode` typically preserves the axis it acts along. In SciPy 1.11.0, this behavior will change: the default value of `keepdims` will become False, the `axis` over which the statistic is taken will be eliminated, and the value None will no longer be accepted. Set `keepdims` to True or False to avoid this warning.\n",
      "  self.pred = stats.mode(y).mode[0]\n"
     ]
    },
    {
     "name": "stdout",
     "output_type": "stream",
     "text": [
      "Decision Tree Spam Train Accuracy: 0.8521028037383177\n",
      "Decision Tree Spam Validation Accuracy: 0.819\n"
     ]
    }
   ],
   "source": [
    "spam_model = DecisionTree(max_depth = 8)\n",
    "spam_model.fit(spam_X, spam_y)\n",
    "spam_X_preds = spam_model.predict(spam_X)\n",
    "spam_X_acc = sum(spam_X_preds == spam_y) / len(spam_y)\n",
    "spam_val_preds = spam_model.predict(spam_X_val)\n",
    "spam_val_acc = sum(spam_val_preds == spam_y_val) / len(spam_y_val)\n",
    "print(\"Decision Tree Spam Train Accuracy:\", spam_X_acc)\n",
    "print(\"Decision Tree Spam Validation Accuracy:\", spam_val_acc)"
   ]
  },
  {
   "cell_type": "code",
   "execution_count": 18,
   "id": "05844ca9",
   "metadata": {
    "scrolled": true
   },
   "outputs": [
    {
     "name": "stderr",
     "output_type": "stream",
     "text": [
      "/var/folders/c7/jkk8dncs2y35yqy53f3511nh0000gn/T/ipykernel_2623/3963986499.py:57: FutureWarning: Unlike other reduction functions (e.g. `skew`, `kurtosis`), the default behavior of `mode` typically preserves the axis it acts along. In SciPy 1.11.0, this behavior will change: the default value of `keepdims` will become False, the `axis` over which the statistic is taken will be eliminated, and the value None will no longer be accepted. Set `keepdims` to True or False to avoid this warning.\n",
      "  self.pred = stats.mode(y).mode[0]\n",
      "/var/folders/c7/jkk8dncs2y35yqy53f3511nh0000gn/T/ipykernel_2623/3963986499.py:54: FutureWarning: Unlike other reduction functions (e.g. `skew`, `kurtosis`), the default behavior of `mode` typically preserves the axis it acts along. In SciPy 1.11.0, this behavior will change: the default value of `keepdims` will become False, the `axis` over which the statistic is taken will be eliminated, and the value None will no longer be accepted. Set `keepdims` to True or False to avoid this warning.\n",
      "  self.pred = stats.mode(y).mode[0]\n",
      "/var/folders/c7/jkk8dncs2y35yqy53f3511nh0000gn/T/ipykernel_2623/1588914224.py:18: FutureWarning: Unlike other reduction functions (e.g. `skew`, `kurtosis`), the default behavior of `mode` typically preserves the axis it acts along. In SciPy 1.11.0, this behavior will change: the default value of `keepdims` will become False, the `axis` over which the statistic is taken will be eliminated, and the value None will no longer be accepted. Set `keepdims` to True or False to avoid this warning.\n",
      "  final_pred = stats.mode(preds).mode\n"
     ]
    },
    {
     "name": "stdout",
     "output_type": "stream",
     "text": [
      "Random Forest Spam Train Accuracy: 0.852803738317757\n",
      "Random Forest Spam Validation Accuracy: 0.828\n"
     ]
    }
   ],
   "source": [
    "spam_model_r = RandomForest(max_depth=10, n=200)\n",
    "spam_model_r.fit(spam_X, spam_y)\n",
    "spam_X_preds_r = spam_model_r.predict(spam_X)\n",
    "spam_X_acc_r = sum(spam_X_preds_r == spam_y) / len(spam_y)\n",
    "spam_val_preds_r = spam_model_r.predict(spam_X_val)\n",
    "spam_val_acc_r = sum(spam_val_preds_r == spam_y_val) / len(spam_y_val)\n",
    "print(\"Random Forest Spam Train Accuracy:\", spam_X_acc_r)\n",
    "print(\"Random Forest Spam Validation Accuracy:\", spam_val_acc_r)"
   ]
  },
  {
   "cell_type": "code",
   "execution_count": 26,
   "id": "2476b8b2",
   "metadata": {},
   "outputs": [
    {
     "name": "stderr",
     "output_type": "stream",
     "text": [
      "/var/folders/c7/jkk8dncs2y35yqy53f3511nh0000gn/T/ipykernel_2623/3963986499.py:57: FutureWarning: Unlike other reduction functions (e.g. `skew`, `kurtosis`), the default behavior of `mode` typically preserves the axis it acts along. In SciPy 1.11.0, this behavior will change: the default value of `keepdims` will become False, the `axis` over which the statistic is taken will be eliminated, and the value None will no longer be accepted. Set `keepdims` to True or False to avoid this warning.\n",
      "  self.pred = stats.mode(y).mode[0]\n",
      "/var/folders/c7/jkk8dncs2y35yqy53f3511nh0000gn/T/ipykernel_2623/3963986499.py:54: FutureWarning: Unlike other reduction functions (e.g. `skew`, `kurtosis`), the default behavior of `mode` typically preserves the axis it acts along. In SciPy 1.11.0, this behavior will change: the default value of `keepdims` will become False, the `axis` over which the statistic is taken will be eliminated, and the value None will no longer be accepted. Set `keepdims` to True or False to avoid this warning.\n",
      "  self.pred = stats.mode(y).mode[0]\n"
     ]
    },
    {
     "name": "stdout",
     "output_type": "stream",
     "text": [
      "Decision Tree Titanic Train Accuracy: 0.8342857142857143\n",
      "Decision Tree Titanic Validation Accuracy: 0.78\n"
     ]
    }
   ],
   "source": [
    "titanic_model = DecisionTree(max_depth = 4)\n",
    "titanic_model.fit(titanic_X, titanic_y)\n",
    "titanic_X_preds = titanic_model.predict(titanic_X)\n",
    "titanic_X_acc = sum(titanic_X_preds == titanic_y) / len(titanic_y)\n",
    "titanic_val_preds = titanic_model.predict(titanic_X_val)\n",
    "titanic_val_acc = sum(titanic_val_preds == titanic_y_val) / len(titanic_y_val)\n",
    "print(\"Decision Tree Titanic Train Accuracy:\", titanic_X_acc)\n",
    "print(\"Decision Tree Titanic Validation Accuracy:\", titanic_val_acc)"
   ]
  },
  {
   "cell_type": "code",
   "execution_count": 31,
   "id": "504c4ae7",
   "metadata": {},
   "outputs": [
    {
     "name": "stderr",
     "output_type": "stream",
     "text": [
      "/var/folders/c7/jkk8dncs2y35yqy53f3511nh0000gn/T/ipykernel_2623/3963986499.py:54: FutureWarning: Unlike other reduction functions (e.g. `skew`, `kurtosis`), the default behavior of `mode` typically preserves the axis it acts along. In SciPy 1.11.0, this behavior will change: the default value of `keepdims` will become False, the `axis` over which the statistic is taken will be eliminated, and the value None will no longer be accepted. Set `keepdims` to True or False to avoid this warning.\n",
      "  self.pred = stats.mode(y).mode[0]\n",
      "/var/folders/c7/jkk8dncs2y35yqy53f3511nh0000gn/T/ipykernel_2623/3963986499.py:57: FutureWarning: Unlike other reduction functions (e.g. `skew`, `kurtosis`), the default behavior of `mode` typically preserves the axis it acts along. In SciPy 1.11.0, this behavior will change: the default value of `keepdims` will become False, the `axis` over which the statistic is taken will be eliminated, and the value None will no longer be accepted. Set `keepdims` to True or False to avoid this warning.\n",
      "  self.pred = stats.mode(y).mode[0]\n",
      "/var/folders/c7/jkk8dncs2y35yqy53f3511nh0000gn/T/ipykernel_2623/1588914224.py:18: FutureWarning: Unlike other reduction functions (e.g. `skew`, `kurtosis`), the default behavior of `mode` typically preserves the axis it acts along. In SciPy 1.11.0, this behavior will change: the default value of `keepdims` will become False, the `axis` over which the statistic is taken will be eliminated, and the value None will no longer be accepted. Set `keepdims` to True or False to avoid this warning.\n",
      "  final_pred = stats.mode(preds).mode\n"
     ]
    },
    {
     "name": "stdout",
     "output_type": "stream",
     "text": [
      "Random Forest Titanic Train Accuracy: 0.8357142857142857\n",
      "Random Forest Titanic Validation Accuracy: 0.78\n"
     ]
    }
   ],
   "source": [
    "titanic_model_r = RandomForest(max_depth=8, n=500)\n",
    "titanic_model_r.fit(titanic_X, titanic_y)\n",
    "titanic_X_preds_r = titanic_model_r.predict(titanic_X)\n",
    "titanic_X_acc_r = sum(titanic_X_preds_r == titanic_y) / len(titanic_y)\n",
    "titanic_val_preds_r = titanic_model_r.predict(titanic_X_val)\n",
    "titanic_val_acc_r = sum(titanic_val_preds_r == titanic_y_val) / len(titanic_y_val)\n",
    "print(\"Random Forest Titanic Train Accuracy:\", titanic_X_acc_r)\n",
    "print(\"Random Forest Titanic Validation Accuracy:\", titanic_val_acc_r)"
   ]
  },
  {
   "cell_type": "code",
   "execution_count": 36,
   "id": "0fa54746",
   "metadata": {},
   "outputs": [
    {
     "name": "stderr",
     "output_type": "stream",
     "text": [
      "/var/folders/c7/jkk8dncs2y35yqy53f3511nh0000gn/T/ipykernel_2623/3963986499.py:57: FutureWarning: Unlike other reduction functions (e.g. `skew`, `kurtosis`), the default behavior of `mode` typically preserves the axis it acts along. In SciPy 1.11.0, this behavior will change: the default value of `keepdims` will become False, the `axis` over which the statistic is taken will be eliminated, and the value None will no longer be accepted. Set `keepdims` to True or False to avoid this warning.\n",
      "  self.pred = stats.mode(y).mode[0]\n",
      "/var/folders/c7/jkk8dncs2y35yqy53f3511nh0000gn/T/ipykernel_2623/3963986499.py:54: FutureWarning: Unlike other reduction functions (e.g. `skew`, `kurtosis`), the default behavior of `mode` typically preserves the axis it acts along. In SciPy 1.11.0, this behavior will change: the default value of `keepdims` will become False, the `axis` over which the statistic is taken will be eliminated, and the value None will no longer be accepted. Set `keepdims` to True or False to avoid this warning.\n",
      "  self.pred = stats.mode(y).mode[0]\n",
      "/var/folders/c7/jkk8dncs2y35yqy53f3511nh0000gn/T/ipykernel_2623/1588914224.py:18: FutureWarning: Unlike other reduction functions (e.g. `skew`, `kurtosis`), the default behavior of `mode` typically preserves the axis it acts along. In SciPy 1.11.0, this behavior will change: the default value of `keepdims` will become False, the `axis` over which the statistic is taken will be eliminated, and the value None will no longer be accepted. Set `keepdims` to True or False to avoid this warning.\n",
      "  final_pred = stats.mode(preds).mode\n"
     ]
    }
   ],
   "source": [
    "# spam kaggle submission\n",
    "spam_test_model = RandomForest(max_depth=10, n=200)\n",
    "spam_test_model.fit(spam_X, spam_y)\n",
    "spam_test_preds = spam_test_model.predict(spam_X_test)"
   ]
  },
  {
   "cell_type": "code",
   "execution_count": 62,
   "id": "057b849f",
   "metadata": {},
   "outputs": [
    {
     "data": {
      "image/png": "[encoded data removed]",
      "text/plain": [
       "<Figure size 640x480 with 1 Axes>"
      ]
     },
     "metadata": {},
     "output_type": "display_data"
    }
   ],
   "source": [
    "plt.plot(range(1,41), spam_val_acts)\n",
    "plt.xlabel(\"Spam Decision Tree Max Depth\")\n",
    "plt.ylabel(\"Validation Accuracy\")\n",
    "plt.title(\"Spam Decision Tree Max Depth vs. Validation Accuracy\")\n",
    "plt.show()"
   ]
  }
 ],
 "metadata": {
  "kernelspec": {
   "display_name": "Python 3 (ipykernel)",
   "language": "python",
   "name": "python3"
  },
  "language_info": {
   "codemirror_mode": {
    "name": "ipython",
    "version": 3
   },
   "file_extension": ".py",
   "mimetype": "text/x-python",
   "name": "python",
   "nbconvert_exporter": "python",
   "pygments_lexer": "ipython3",
   "version": "3.9.13"
  }
 },
 "nbformat": 4,
 "nbformat_minor": 5
}
